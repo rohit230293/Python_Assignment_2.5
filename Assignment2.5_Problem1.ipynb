'''
Q. Problem Statement 1:
Write a Python program using function concept that maps list of words into a list of
integers representing the lengths of the corresponding words.
Hint: ​If a list [ ab,cde,erty] is passed on to the python function output should come as
[2,3,4]
Here 2,3 and 4 are the lengths of the words in the list.
'''

seq=["abc","defg","hij","klmpno"]
my_func = list(map(lambda x: len(x), seq))
print(my_func)
